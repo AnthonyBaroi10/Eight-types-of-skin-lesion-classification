{
 "cells": [
  {
   "cell_type": "code",
   "execution_count": 3,
   "metadata": {
    "executionInfo": {
     "elapsed": 516,
     "status": "ok",
     "timestamp": 1668703489411,
     "user": {
      "displayName": "Naser Abdullah Alam (193014041)",
      "userId": "17087100884161408939"
     },
     "user_tz": -360
    },
    "id": "dKxqDJN_LlQX"
   },
   "outputs": [],
   "source": [
    "class bcolors:\n",
    "    OK = '\\033[92m' #GREEN\n",
    "    WARNING = '\\033[93m' #YELLOW\n",
    "    FAIL = '\\033[91m' #RED\n",
    "    RESET = '\\033[0m' #RESET COLOR"
   ]
  },
  {
   "cell_type": "code",
   "execution_count": 4,
   "metadata": {
    "colab": {
     "base_uri": "https://localhost:8080/"
    },
    "executionInfo": {
     "elapsed": 9,
     "status": "ok",
     "timestamp": 1668703490710,
     "user": {
      "displayName": "Naser Abdullah Alam (193014041)",
      "userId": "17087100884161408939"
     },
     "user_tz": -360
    },
    "id": "E4N2OoBPMQzV",
    "outputId": "adb1dbc5-3aab-40c4-ca84-df429c788c15"
   },
   "outputs": [
    {
     "name": "stdout",
     "output_type": "stream",
     "text": [
      "\u001b[92mEnviroment setup complete!\u001b[0m\n"
     ]
    }
   ],
   "source": [
    "import torch\n",
    "import torch.nn as nn\n",
    "import torch.optim as optim\n",
    "from torch.optim import lr_scheduler\n",
    "import numpy as np\n",
    "import torchvision\n",
    "from torchvision import datasets, models, transforms\n",
    "import matplotlib.pyplot as plt\n",
    "import time\n",
    "import os\n",
    "import copy\n",
    "\n",
    "from pandas.core.common import flatten\n",
    "import random\n",
    "import glob\n",
    "\n",
    "import albumentations as A\n",
    "from albumentations.pytorch import ToTensorV2\n",
    "\n",
    "from GPUtil import showUtilization as gpu_usage\n",
    "from numba import cuda\n",
    "\n",
    "print(f'{bcolors.OK}Enviroment setup complete!{bcolors.RESET}')"
   ]
  },
  {
   "cell_type": "code",
   "execution_count": 5,
   "metadata": {},
   "outputs": [
    {
     "name": "stdout",
     "output_type": "stream",
     "text": [
      "Initial GPU Usage\n",
      "| ID | GPU | MEM |\n",
      "------------------\n",
      "|  0 |  2% |  7% |\n",
      "|  1 |  0% |  0% |\n",
      "GPU Usage after emptying the cache\n",
      "| ID | GPU | MEM |\n",
      "------------------\n",
      "|  0 |  4% |  8% |\n",
      "|  1 |  0% |  0% |\n"
     ]
    }
   ],
   "source": [
    "def free_gpu_cache():\n",
    "    print(\"Initial GPU Usage\")\n",
    "    gpu_usage()                             \n",
    "\n",
    "    torch.cuda.empty_cache()\n",
    "\n",
    "    cuda.select_device(0)\n",
    "    cuda.close()\n",
    "    cuda.select_device(0)\n",
    "\n",
    "    print(\"GPU Usage after emptying the cache\")\n",
    "    gpu_usage()\n",
    "\n",
    "free_gpu_cache()  "
   ]
  },
  {
   "cell_type": "code",
   "execution_count": 6,
   "metadata": {
    "executionInfo": {
     "elapsed": 7,
     "status": "ok",
     "timestamp": 1668703490710,
     "user": {
      "displayName": "Naser Abdullah Alam (193014041)",
      "userId": "17087100884161408939"
     },
     "user_tz": -360
    },
    "id": "UNZokWVsMhxc"
   },
   "outputs": [],
   "source": [
    "class Transforms:\n",
    "    def __init__(self, transforms):\n",
    "        self.transforms = transforms\n",
    "\n",
    "    def __call__(self, img, *args, **kwargs):\n",
    "        return self.transforms(image=np.array(img))['image']"
   ]
  },
  {
   "cell_type": "code",
   "execution_count": 7,
   "metadata": {
    "executionInfo": {
     "elapsed": 7,
     "status": "ok",
     "timestamp": 1668703490711,
     "user": {
      "displayName": "Naser Abdullah Alam (193014041)",
      "userId": "17087100884161408939"
     },
     "user_tz": -360
    },
    "id": "o6o8kINQYpY1"
   },
   "outputs": [],
   "source": [
    "mean = np.array([0.5, 0.5, 0.5])\n",
    "std = np.array([0.25, 0.25, 0.25])\n",
    "\n",
    "data_transforms = {\n",
    "    'train': A.Compose([A.Resize(600 , 600), A.Normalize(mean, std), ToTensorV2()]),\n",
    "    'test': A.Compose([A.Resize(600 , 600), A.Normalize(mean, std), ToTensorV2()])\n",
    "}"
   ]
  },
  {
   "cell_type": "code",
   "execution_count": 8,
   "metadata": {
    "executionInfo": {
     "elapsed": 7,
     "status": "ok",
     "timestamp": 1668703618031,
     "user": {
      "displayName": "Naser Abdullah Alam (193014041)",
      "userId": "17087100884161408939"
     },
     "user_tz": -360
    },
    "id": "qd-AV9SUZLtr"
   },
   "outputs": [],
   "source": [
    "data_dir = 'D:\\sl\\images'\n",
    "sets = ['train', 'test']"
   ]
  },
  {
   "cell_type": "code",
   "execution_count": 9,
   "metadata": {
    "executionInfo": {
     "elapsed": 5462,
     "status": "ok",
     "timestamp": 1668703496167,
     "user": {
      "displayName": "Naser Abdullah Alam (193014041)",
      "userId": "17087100884161408939"
     },
     "user_tz": -360
    },
    "id": "_5ZtLgjQZNm-"
   },
   "outputs": [],
   "source": [
    "image_datasets = {x: datasets.ImageFolder(os.path.join(data_dir, x), transform =Transforms(transforms=data_transforms[x])) for x in ['train', 'test']}"
   ]
  },
  {
   "cell_type": "code",
   "execution_count": 10,
   "metadata": {
    "executionInfo": {
     "elapsed": 6,
     "status": "ok",
     "timestamp": 1668703496168,
     "user": {
      "displayName": "Naser Abdullah Alam (193014041)",
      "userId": "17087100884161408939"
     },
     "user_tz": -360
    },
    "id": "0rVJo4tLaCmm"
   },
   "outputs": [],
   "source": [
    "dataloaders = {x: torch.utils.data.DataLoader(image_datasets[x], batch_size=4, shuffle=True) for x in ['train', 'test']}"
   ]
  },
  {
   "cell_type": "code",
   "execution_count": 11,
   "metadata": {
    "colab": {
     "base_uri": "https://localhost:8080/"
    },
    "executionInfo": {
     "elapsed": 6,
     "status": "ok",
     "timestamp": 1668703496169,
     "user": {
      "displayName": "Naser Abdullah Alam (193014041)",
      "userId": "17087100884161408939"
     },
     "user_tz": -360
    },
    "id": "beNZbNima31J",
    "outputId": "cdd40e76-5a15-4038-df92-4bcdc6e8c8f8"
   },
   "outputs": [
    {
     "name": "stdout",
     "output_type": "stream",
     "text": [
      "train: 20265 test: 5066\n",
      "['AK', 'BCC', 'BKL', 'DF', 'MEL', 'NV', 'SCC', 'VASC']\n"
     ]
    }
   ],
   "source": [
    "dataset_sizes = {x: len(image_datasets[x]) for x in ['train', 'test']}\n",
    "class_names = image_datasets['train'].classes\n",
    "\n",
    "device = torch.device(\"cuda:0\" if torch.cuda.is_available() else \"cpu\")\n",
    "print('train: {} test: {}'.format(dataset_sizes['train'], dataset_sizes['test']))\n",
    "print(class_names)"
   ]
  },
  {
   "cell_type": "code",
   "execution_count": 12,
   "metadata": {
    "colab": {
     "base_uri": "https://localhost:8080/"
    },
    "executionInfo": {
     "elapsed": 121866,
     "status": "ok",
     "timestamp": 1668703618029,
     "user": {
      "displayName": "Naser Abdullah Alam (193014041)",
      "userId": "17087100884161408939"
     },
     "user_tz": -360
    },
    "id": "IAros685bC3C",
    "outputId": "11e3b040-9863-4211-889b-df00482dab2b"
   },
   "outputs": [
    {
     "name": "stdout",
     "output_type": "stream",
     "text": [
      "torch.Size([4, 3, 600, 600])\n"
     ]
    }
   ],
   "source": [
    "inputs, classes = next(iter(dataloaders['train']))\n",
    "print(inputs.size())"
   ]
  },
  {
   "cell_type": "code",
   "execution_count": 13,
   "metadata": {
    "id": "Wwqm9FTZfqQ6"
   },
   "outputs": [
    {
     "name": "stdout",
     "output_type": "stream",
     "text": [
      "['AK', 'BCC', 'BKL', 'DF', 'MEL', 'NV', 'SCC', 'VASC']\n",
      "Using cuda:0 device\n"
     ]
    }
   ],
   "source": [
    "dataset_sizes = {x: len(image_datasets[x]) for x in ['train', 'test']}\n",
    "class_names = image_datasets['train'].classes\n",
    "\n",
    "device = torch.device(\"cuda:0\" if torch.cuda.is_available() else \"cpu\")\n",
    "print(class_names)\n",
    "print(f\"Using {device} device\")"
   ]
  },
  {
   "cell_type": "code",
   "execution_count": 14,
   "metadata": {},
   "outputs": [
    {
     "data": {
      "image/png": "[encoded data removed]",
      "text/plain": [
       "<Figure size 432x288 with 1 Axes>"
      ]
     },
     "metadata": {
      "needs_background": "light"
     },
     "output_type": "display_data"
    }
   ],
   "source": [
    "def imshow(inp, title):\n",
    "    \"\"\"Imshow for Tensor.\"\"\"\n",
    "    inp = inp.numpy().transpose((1, 2, 0))\n",
    "    inp = std * inp + mean\n",
    "    inp = np.clip(inp, 0, 1)\n",
    "    plt.imshow(inp)\n",
    "    plt.title(title)\n",
    "    plt.show()\n",
    "\n",
    "\n",
    "# Get a batch of training data\n",
    "inputs, classes = next(iter(dataloaders['train']))\n",
    "\n",
    "# Make a grid from batch\n",
    "out = torchvision.utils.make_grid(inputs)\n",
    "\n",
    "imshow(out, title=[class_names[x] for x in classes])"
   ]
  },
  {
   "cell_type": "code",
   "execution_count": 15,
   "metadata": {},
   "outputs": [],
   "source": [
    "def train_model(model, cirterion, optimizer, scheduler, num_epochs=25):\n",
    "  since = time.time()\n",
    "\n",
    "  best_model_wts = copy.deepcopy(model.state_dict())\n",
    "  best_acc = 0.0\n",
    "\n",
    "  for epoch in range(num_epochs):\n",
    "    print(f'Epoch {epoch}/{num_epoch-1}')\n",
    "    print('-' * 10)\n",
    "\n",
    "    for phase in ['train', 'test']:\n",
    "      if phase =='train':\n",
    "        model.train()\n",
    "      else:\n",
    "        model.eval()\n",
    "      \n",
    "      running_loss = 0.0\n",
    "      running_corrects = 0\n",
    "\n",
    "      # Iterate over data.\n",
    "      for inputs, labels in dataloaders[phase]:\n",
    "        inputs = inputs.to(device)\n",
    "        labels = labels.to(device)\n",
    "\n",
    "        # forward\n",
    "        # track history only if train\n",
    "        with torch.set_grad_enabled(phase == 'train'):\n",
    "          outputs = model(inputs)\n",
    "          _, preds = torch.max(outputs, 1)\n",
    "          loss = cirterion(outputs, labels)\n",
    "\n",
    "          #backward + optimize only if in train\n",
    "          if phase == 'train':\n",
    "            optimizer.zero_grad()\n",
    "            loss.backward()\n",
    "            optimizer.step()\n",
    "        \n",
    "        running_loss += loss.item() * inputs.size(0)\n",
    "        running_corrects += torch.sum(preds == labels.data)\n",
    "      \n",
    "      if phase == 'train':\n",
    "        scheduler.step()\n",
    "\n",
    "      epoch_loss = running_loss / dataset_sizes[phase]\n",
    "      epoch_acc = running_corrects.double() / dataset_sizes[phase]\n",
    "\n",
    "      print(f'{phase} Loss: {epoch_loss:.4f}, Acc: {epoch_acc:.4f}')\n",
    "\n",
    "      if phase == 'test' and epoch_acc > best_acc:\n",
    "        best_acc = epoch_acc\n",
    "        best_model_wts = copy.deepcopy(model.state_dict())\n",
    "\n",
    "    print()\n",
    "  time_elapsed = time.time() - since\n",
    "  print(f'Training complete in {time_elapsed // 60:.0f}m { time_elapsed % 60:.0f}s')\n",
    "  print(f'Best val Acc: {best_acc:4f}')\n",
    "\n",
    "  # load best model weights\n",
    "  model.load_state_dict(best_model_wts)\n",
    "  return model"
   ]
  },
  {
   "cell_type": "code",
   "execution_count": 16,
   "metadata": {},
   "outputs": [
    {
     "name": "stdout",
     "output_type": "stream",
     "text": [
      "Epoch 2/24\n",
      "----------\n"
     ]
    }
   ],
   "source": [
    "epoch, num_epoch = 2, 25\n",
    "print(f'Epoch {epoch}/{num_epoch-1}')\n",
    "print('-' * 10)"
   ]
  },
  {
   "cell_type": "code",
   "execution_count": 17,
   "metadata": {},
   "outputs": [
    {
     "name": "stderr",
     "output_type": "stream",
     "text": [
      "E:\\conda\\lib\\site-packages\\torchvision\\models\\_utils.py:208: UserWarning: The parameter 'pretrained' is deprecated since 0.13 and may be removed in the future, please use 'weights' instead.\n",
      "  warnings.warn(\n",
      "E:\\conda\\lib\\site-packages\\torchvision\\models\\_utils.py:223: UserWarning: Arguments other than a weight enum or `None` for 'weights' are deprecated since 0.13 and may be removed in the future. The current behavior is equivalent to passing `weights=ResNet18_Weights.IMAGENET1K_V1`. You can also use `weights=ResNet18_Weights.DEFAULT` to get the most up-to-date weights.\n",
      "  warnings.warn(msg)\n"
     ]
    }
   ],
   "source": [
    "model = models.resnet18(pretrained=True)\n",
    "num_ftrs = model.fc.in_features"
   ]
  },
  {
   "cell_type": "code",
   "execution_count": 18,
   "metadata": {},
   "outputs": [],
   "source": [
    "model.fc = nn.Linear(num_ftrs, 8)\n",
    "model = model.to(device)"
   ]
  },
  {
   "cell_type": "code",
   "execution_count": 19,
   "metadata": {},
   "outputs": [],
   "source": [
    "criterion = nn.CrossEntropyLoss()"
   ]
  },
  {
   "cell_type": "code",
   "execution_count": 20,
   "metadata": {},
   "outputs": [],
   "source": [
    "optimizer = optim.SGD(model.parameters(), lr=0.001)"
   ]
  },
  {
   "cell_type": "code",
   "execution_count": 21,
   "metadata": {},
   "outputs": [],
   "source": [
    "step_lr_scheduler = lr_scheduler.StepLR(optimizer, step_size=7, gamma=0.1)"
   ]
  },
  {
   "cell_type": "code",
   "execution_count": 22,
   "metadata": {},
   "outputs": [
    {
     "name": "stdout",
     "output_type": "stream",
     "text": [
      "Epoch 0/24\n",
      "----------\n",
      "train Loss: 1.1673, Acc: 0.5914\n",
      "test Loss: 0.9490, Acc: 0.6644\n",
      "\n",
      "Epoch 1/24\n",
      "----------\n",
      "train Loss: 1.0292, Acc: 0.6396\n",
      "test Loss: 0.8836, Acc: 0.6871\n",
      "\n",
      "Epoch 2/24\n",
      "----------\n",
      "train Loss: 0.9541, Acc: 0.6651\n",
      "test Loss: 0.8018, Acc: 0.7120\n",
      "\n",
      "Epoch 3/24\n",
      "----------\n",
      "train Loss: 0.8901, Acc: 0.6865\n",
      "test Loss: 0.7965, Acc: 0.7138\n",
      "\n",
      "Epoch 4/24\n",
      "----------\n",
      "train Loss: 0.8416, Acc: 0.7053\n",
      "test Loss: 0.7773, Acc: 0.7254\n",
      "\n",
      "Epoch 5/24\n",
      "----------\n",
      "train Loss: 0.7895, Acc: 0.7255\n",
      "test Loss: 0.7354, Acc: 0.7386\n",
      "\n",
      "Epoch 6/24\n",
      "----------\n",
      "train Loss: 0.7431, Acc: 0.7400\n",
      "test Loss: 0.6972, Acc: 0.7615\n",
      "\n",
      "Epoch 7/24\n",
      "----------\n",
      "train Loss: 0.6653, Acc: 0.7736\n",
      "test Loss: 0.6899, Acc: 0.7600\n",
      "\n",
      "Epoch 8/24\n",
      "----------\n",
      "train Loss: 0.6446, Acc: 0.7807\n",
      "test Loss: 0.6935, Acc: 0.7584\n",
      "\n",
      "Epoch 9/24\n",
      "----------\n",
      "train Loss: 0.6335, Acc: 0.7852\n",
      "test Loss: 0.6790, Acc: 0.7594\n",
      "\n",
      "Epoch 10/24\n",
      "----------\n",
      "train Loss: 0.6342, Acc: 0.7840\n",
      "test Loss: 0.6803, Acc: 0.7641\n",
      "\n",
      "Epoch 11/24\n",
      "----------\n",
      "train Loss: 0.6234, Acc: 0.7895\n",
      "test Loss: 0.7492, Acc: 0.7460\n",
      "\n",
      "Epoch 12/24\n",
      "----------\n",
      "train Loss: 0.6124, Acc: 0.7909\n",
      "test Loss: 0.7053, Acc: 0.7578\n",
      "\n",
      "Epoch 13/24\n",
      "----------\n",
      "train Loss: 0.6063, Acc: 0.7925\n",
      "test Loss: 0.6664, Acc: 0.7665\n",
      "\n",
      "Epoch 14/24\n",
      "----------\n",
      "train Loss: 0.5988, Acc: 0.7940\n",
      "test Loss: 0.6704, Acc: 0.7627\n",
      "\n",
      "Epoch 15/24\n",
      "----------\n",
      "train Loss: 0.5905, Acc: 0.7984\n",
      "test Loss: 0.6664, Acc: 0.7675\n",
      "\n",
      "Epoch 16/24\n",
      "----------\n",
      "train Loss: 0.5951, Acc: 0.7990\n",
      "test Loss: 0.6841, Acc: 0.7602\n",
      "\n",
      "Epoch 17/24\n",
      "----------\n",
      "train Loss: 0.5878, Acc: 0.8015\n",
      "test Loss: 0.6664, Acc: 0.7683\n",
      "\n",
      "Epoch 18/24\n",
      "----------\n",
      "train Loss: 0.5923, Acc: 0.7991\n",
      "test Loss: 0.6687, Acc: 0.7663\n",
      "\n",
      "Epoch 19/24\n",
      "----------\n",
      "train Loss: 0.5841, Acc: 0.8019\n",
      "test Loss: 0.6783, Acc: 0.7659\n",
      "\n",
      "Epoch 20/24\n",
      "----------\n",
      "train Loss: 0.5892, Acc: 0.8011\n",
      "test Loss: 0.6543, Acc: 0.7716\n",
      "\n",
      "Epoch 21/24\n",
      "----------\n",
      "train Loss: 0.5872, Acc: 0.7978\n",
      "test Loss: 0.6519, Acc: 0.7785\n",
      "\n",
      "Epoch 22/24\n",
      "----------\n",
      "train Loss: 0.5835, Acc: 0.7994\n",
      "test Loss: 0.6718, Acc: 0.7649\n",
      "\n",
      "Epoch 23/24\n",
      "----------\n",
      "train Loss: 0.5861, Acc: 0.8030\n",
      "test Loss: 0.6731, Acc: 0.7681\n",
      "\n",
      "Epoch 24/24\n",
      "----------\n",
      "train Loss: 0.5890, Acc: 0.8010\n",
      "test Loss: 0.6606, Acc: 0.7702\n",
      "\n",
      "Training complete in 898m 15s\n",
      "Best val Acc: 0.778523\n"
     ]
    }
   ],
   "source": [
    "model = train_model(model, criterion, optimizer, step_lr_scheduler, num_epochs=25)"
   ]
  }
 ],
 "metadata": {
  "colab": {
   "authorship_tag": "ABX9TyPfd0euhW4vkx6KjqvaArSu",
   "mount_file_id": "1lVk3VlKzZ_AtrzcerQwb-e8sQBve30kV",
   "provenance": []
  },
  "kernelspec": {
   "display_name": "Python 3 (ipykernel)",
   "language": "python",
   "name": "python3"
  },
  "language_info": {
   "codemirror_mode": {
    "name": "ipython",
    "version": 3
   },
   "file_extension": ".py",
   "mimetype": "text/x-python",
   "name": "python",
   "nbconvert_exporter": "python",
   "pygments_lexer": "ipython3",
   "version": "3.9.12"
  }
 },
 "nbformat": 4,
 "nbformat_minor": 1
}
