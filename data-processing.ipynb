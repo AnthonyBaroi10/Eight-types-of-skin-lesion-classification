{
 "cells": [
  {
   "cell_type": "markdown",
   "metadata": {},
   "source": [
    "### Import nessesary libraries"
   ]
  },
  {
   "cell_type": "code",
   "execution_count": 1,
   "metadata": {},
   "outputs": [],
   "source": [
    "import pandas as pd \n",
    "import os\n",
    "import numpy as np\n",
    "import shutil"
   ]
  },
  {
   "cell_type": "markdown",
   "metadata": {},
   "source": [
    "### Split Test and Train\n",
    "Test data = 25,331 * 0.2 = 5,066\n",
    "Train data = 25,331 * 0.8 = 20265"
   ]
  },
  {
   "cell_type": "code",
   "execution_count": 2,
   "metadata": {},
   "outputs": [
    {
     "name": "stdout",
     "output_type": "stream",
     "text": [
      "              image  MEL   NV  BCC   AK  BKL   DF  VASC  SCC  UNK\n",
      "20904  ISIC_0066282  0.0  0.0  1.0  0.0  0.0  0.0   0.0  0.0  0.0\n",
      "14278  ISIC_0055669  0.0  1.0  0.0  0.0  0.0  0.0   0.0  0.0  0.0\n",
      "19504  ISIC_0064020  0.0  1.0  0.0  0.0  0.0  0.0   0.0  0.0  0.0\n",
      "21682  ISIC_0067492  0.0  0.0  1.0  0.0  0.0  0.0   0.0  0.0  0.0\n",
      "24907  ISIC_0072604  0.0  1.0  0.0  0.0  0.0  0.0   0.0  0.0  0.0\n",
      "...             ...  ...  ...  ...  ...  ...  ...   ...  ...  ...\n",
      "3191   ISIC_0024594  0.0  1.0  0.0  0.0  0.0  0.0   0.0  0.0  0.0\n",
      "25030  ISIC_0072796  0.0  1.0  0.0  0.0  0.0  0.0   0.0  0.0  0.0\n",
      "13390  ISIC_0054240  0.0  0.0  1.0  0.0  0.0  0.0   0.0  0.0  0.0\n",
      "10908  ISIC_0032311  0.0  1.0  0.0  0.0  0.0  0.0   0.0  0.0  0.0\n",
      "9059   ISIC_0030462  0.0  1.0  0.0  0.0  0.0  0.0   0.0  0.0  0.0\n",
      "\n",
      "[5066 rows x 10 columns]\n",
      "              image  MEL   NV  BCC   AK  BKL   DF  VASC  SCC  UNK\n",
      "1      ISIC_0000001  0.0  1.0  0.0  0.0  0.0  0.0   0.0  0.0  0.0\n",
      "2      ISIC_0000002  1.0  0.0  0.0  0.0  0.0  0.0   0.0  0.0  0.0\n",
      "3      ISIC_0000003  0.0  1.0  0.0  0.0  0.0  0.0   0.0  0.0  0.0\n",
      "4      ISIC_0000004  1.0  0.0  0.0  0.0  0.0  0.0   0.0  0.0  0.0\n",
      "5      ISIC_0000006  0.0  1.0  0.0  0.0  0.0  0.0   0.0  0.0  0.0\n",
      "...             ...  ...  ...  ...  ...  ...  ...   ...  ...  ...\n",
      "25326  ISIC_0073247  0.0  0.0  1.0  0.0  0.0  0.0   0.0  0.0  0.0\n",
      "25327  ISIC_0073248  0.0  0.0  0.0  0.0  1.0  0.0   0.0  0.0  0.0\n",
      "25328  ISIC_0073249  1.0  0.0  0.0  0.0  0.0  0.0   0.0  0.0  0.0\n",
      "25329  ISIC_0073251  0.0  1.0  0.0  0.0  0.0  0.0   0.0  0.0  0.0\n",
      "25330  ISIC_0073254  0.0  0.0  0.0  0.0  1.0  0.0   0.0  0.0  0.0\n",
      "\n",
      "[20265 rows x 10 columns]\n"
     ]
    }
   ],
   "source": [
    "df = pd.read_csv(\"ISIC_2019_Training_GroundTruth.csv\")\n",
    "df_test = df.sample(frac = 0.2)\n",
    "\n",
    "# the images that are not in the test set are in the train set\n",
    "df_test[\"FLG\"] = 0\n",
    "df_train = pd.merge(df, df_test, how = \"outer\")\n",
    "df_train = df_train[df_train[\"FLG\"] != 0]\n",
    "del df_train[\"FLG\"]\n",
    "del df_test[\"FLG\"]\n",
    "\n",
    "print(df_test)\n",
    "print(df_train)"
   ]
  },
  {
   "cell_type": "markdown",
   "metadata": {},
   "source": [
    "#### Copy selected selected images to the train folder"
   ]
  },
  {
   "cell_type": "code",
   "execution_count": 3,
   "metadata": {},
   "outputs": [],
   "source": [
    "cls_dict = { 0:\"MEL\", 1:\"NV\", 2:\"BCC\", 3:\"AK\", 4:\"BKL\", 5:\"DF\", 6:\"VASC\", 7:\"SCC\"}\n",
    "for id, row in df_train.iterrows():\n",
    "    ls = row.values\n",
    "    img_name = ls[0]\n",
    "    cls = ls[1:]\n",
    "    cls = cls.argmax()\n",
    "    shutil.copy(f\"ISIC_2019_Training_Input/{img_name}.jpg\", f\"images/train/{cls_dict[cls]}\")"
   ]
  },
  {
   "cell_type": "markdown",
   "metadata": {},
   "source": [
    "#### Copy selected selected images to the test folder"
   ]
  },
  {
   "cell_type": "code",
   "execution_count": 4,
   "metadata": {},
   "outputs": [],
   "source": [
    "cls_dict = { 0:\"MEL\", 1:\"NV\", 2:\"BCC\", 3:\"AK\", 4:\"BKL\", 5:\"DF\", 6:\"VASC\", 7:\"SCC\"}\n",
    "for id, row in df_test.iterrows():\n",
    "    ls = row.values\n",
    "    img_name = ls[0]\n",
    "    cls = ls[1:]\n",
    "    cls = cls.argmax()\n",
    "    shutil.copy(f\"ISIC_2019_Training_Input/{img_name}.jpg\", f\"images/test/{cls_dict[cls]}\")"
   ]
  },
  {
   "cell_type": "code",
   "execution_count": null,
   "metadata": {},
   "outputs": [],
   "source": []
  }
 ],
 "metadata": {
  "kernelspec": {
   "display_name": "Python 3 (ipykernel)",
   "language": "python",
   "name": "python3"
  },
  "language_info": {
   "codemirror_mode": {
    "name": "ipython",
    "version": 3
   },
   "file_extension": ".py",
   "mimetype": "text/x-python",
   "name": "python",
   "nbconvert_exporter": "python",
   "pygments_lexer": "ipython3",
   "version": "3.9.12"
  },
  "vscode": {
   "interpreter": {
    "hash": "f08154012ddadd8e950e6e9e035c7a7b32c136e7647e9b7c77e02eb723a8bedb"
   }
  }
 },
 "nbformat": 4,
 "nbformat_minor": 2
}
