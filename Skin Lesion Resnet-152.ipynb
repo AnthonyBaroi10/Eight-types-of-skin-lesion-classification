{
 "cells": [
  {
   "cell_type": "code",
   "execution_count": 1,
   "id": "3223b33b",
   "metadata": {},
   "outputs": [],
   "source": [
    "class bcolors:\n",
    "    OK = '\\033[92m' #GREEN\n",
    "    WARNING = '\\033[93m' #YELLOW\n",
    "    FAIL = '\\033[91m' #RED\n",
    "    RESET = '\\033[0m' #RESET COLOR"
   ]
  },
  {
   "cell_type": "code",
   "execution_count": 2,
   "id": "452bb37b",
   "metadata": {},
   "outputs": [
    {
     "name": "stdout",
     "output_type": "stream",
     "text": [
      "\u001b[92mEnviroment setup complete!\u001b[0m\n"
     ]
    }
   ],
   "source": [
    "import torch\n",
    "import torch.nn as nn\n",
    "import torch.optim as optim\n",
    "from torch.optim import lr_scheduler\n",
    "import numpy as np\n",
    "import torchvision\n",
    "from torchvision import datasets, models, transforms\n",
    "import matplotlib.pyplot as plt\n",
    "import time\n",
    "import os\n",
    "import copy\n",
    "\n",
    "from pandas.core.common import flatten\n",
    "import random\n",
    "import glob\n",
    "\n",
    "import albumentations as A\n",
    "from albumentations.pytorch import ToTensorV2\n",
    "\n",
    "from GPUtil import showUtilization as gpu_usage\n",
    "from numba import cuda\n",
    "\n",
    "print(f'{bcolors.OK}Enviroment setup complete!{bcolors.RESET}')"
   ]
  },
  {
   "cell_type": "code",
   "execution_count": 3,
   "id": "63de7f6b",
   "metadata": {},
   "outputs": [
    {
     "name": "stdout",
     "output_type": "stream",
     "text": [
      "Initial GPU Usage\n",
      "| ID | GPU | MEM |\n",
      "------------------\n",
      "|  0 |  1% |  4% |\n",
      "|  1 |  0% |  0% |\n",
      "GPU Usage after emptying the cache\n",
      "| ID | GPU | MEM |\n",
      "------------------\n",
      "|  0 |  4% |  5% |\n",
      "|  1 |  0% |  0% |\n"
     ]
    }
   ],
   "source": [
    "def free_gpu_cache():\n",
    "    print(\"Initial GPU Usage\")\n",
    "    gpu_usage()                             \n",
    "\n",
    "    torch.cuda.empty_cache()\n",
    "\n",
    "    cuda.select_device(0)\n",
    "    cuda.close()\n",
    "    cuda.select_device(0)\n",
    "\n",
    "    print(\"GPU Usage after emptying the cache\")\n",
    "    gpu_usage()\n",
    "\n",
    "free_gpu_cache()  "
   ]
  },
  {
   "cell_type": "code",
   "execution_count": 4,
   "id": "2d852c6f",
   "metadata": {},
   "outputs": [],
   "source": [
    "class Transforms:\n",
    "    def __init__(self, transforms):\n",
    "        self.transforms = transforms\n",
    "\n",
    "    def __call__(self, img, *args, **kwargs):\n",
    "        return self.transforms(image=np.array(img))['image']"
   ]
  },
  {
   "cell_type": "code",
   "execution_count": 5,
   "id": "17ff4b5e",
   "metadata": {},
   "outputs": [],
   "source": [
    "mean = np.array([0.5, 0.5, 0.5])\n",
    "std = np.array([0.25, 0.25, 0.25])\n",
    "\n",
    "data_transforms = {\n",
    "    'train': A.Compose([A.Resize(224 , 224), A.Normalize(mean, std), ToTensorV2()]),\n",
    "    'test': A.Compose([A.Resize(224 , 224), A.Normalize(mean, std), ToTensorV2()])\n",
    "}"
   ]
  },
  {
   "cell_type": "code",
   "execution_count": 6,
   "id": "58ae814f",
   "metadata": {},
   "outputs": [],
   "source": [
    "data_dir = 'D:\\sl\\images'\n",
    "sets = ['train', 'test']"
   ]
  },
  {
   "cell_type": "code",
   "execution_count": 7,
   "id": "bb5a60c6",
   "metadata": {},
   "outputs": [],
   "source": [
    "image_datasets = {x: datasets.ImageFolder(os.path.join(data_dir, x), transform =Transforms(transforms=data_transforms[x])) for x in ['train', 'test']}"
   ]
  },
  {
   "cell_type": "code",
   "execution_count": 8,
   "id": "5db0bd17",
   "metadata": {},
   "outputs": [],
   "source": [
    "dataloaders = {x: torch.utils.data.DataLoader(image_datasets[x], batch_size=4, shuffle=True) for x in ['train', 'test']}"
   ]
  },
  {
   "cell_type": "code",
   "execution_count": 9,
   "id": "62c4420a",
   "metadata": {},
   "outputs": [
    {
     "name": "stdout",
     "output_type": "stream",
     "text": [
      "train: 20265 test: 5066\n",
      "['AK', 'BCC', 'BKL', 'DF', 'MEL', 'NV', 'SCC', 'VASC']\n"
     ]
    }
   ],
   "source": [
    "dataset_sizes = {x: len(image_datasets[x]) for x in ['train', 'test']}\n",
    "class_names = image_datasets['train'].classes\n",
    "\n",
    "device = torch.device(\"cuda:0\" if torch.cuda.is_available() else \"cpu\")\n",
    "print('train: {} test: {}'.format(dataset_sizes['train'], dataset_sizes['test']))\n",
    "print(class_names)"
   ]
  },
  {
   "cell_type": "code",
   "execution_count": 10,
   "id": "94e1dc7f",
   "metadata": {},
   "outputs": [
    {
     "name": "stdout",
     "output_type": "stream",
     "text": [
      "torch.Size([4, 3, 224, 224])\n"
     ]
    }
   ],
   "source": [
    "inputs, classes = next(iter(dataloaders['train']))\n",
    "print(inputs.size())"
   ]
  },
  {
   "cell_type": "code",
   "execution_count": 11,
   "id": "d5e1900b",
   "metadata": {},
   "outputs": [
    {
     "name": "stdout",
     "output_type": "stream",
     "text": [
      "['AK', 'BCC', 'BKL', 'DF', 'MEL', 'NV', 'SCC', 'VASC']\n",
      "Using cuda:0 device\n"
     ]
    }
   ],
   "source": [
    "dataset_sizes = {x: len(image_datasets[x]) for x in ['train', 'test']}\n",
    "class_names = image_datasets['train'].classes\n",
    "\n",
    "device = torch.device(\"cuda:0\" if torch.cuda.is_available() else \"cpu\")\n",
    "print(class_names)\n",
    "print(f\"Using {device} device\")"
   ]
  },
  {
   "cell_type": "code",
   "execution_count": 12,
   "id": "bd5fe652",
   "metadata": {},
   "outputs": [
    {
     "data": {
      "image/png": "[encoded data removed]",
      "text/plain": [
       "<Figure size 432x288 with 1 Axes>"
      ]
     },
     "metadata": {
      "needs_background": "light"
     },
     "output_type": "display_data"
    }
   ],
   "source": [
    "def imshow(inp, title):\n",
    "    \"\"\"Imshow for Tensor.\"\"\"\n",
    "    inp = inp.numpy().transpose((1, 2, 0))\n",
    "    inp = std * inp + mean\n",
    "    inp = np.clip(inp, 0, 1)\n",
    "    plt.imshow(inp)\n",
    "    plt.title(title)\n",
    "    plt.show()\n",
    "\n",
    "\n",
    "# Get a batch of training data\n",
    "inputs, classes = next(iter(dataloaders['train']))\n",
    "\n",
    "# Make a grid from batch\n",
    "out = torchvision.utils.make_grid(inputs)\n",
    "\n",
    "imshow(out, title=[class_names[x] for x in classes])"
   ]
  },
  {
   "cell_type": "code",
   "execution_count": 13,
   "id": "576745de",
   "metadata": {},
   "outputs": [],
   "source": [
    "def train_model(model, cirterion, optimizer, scheduler, num_epochs=25):\n",
    "  since = time.time()\n",
    "\n",
    "  best_model_wts = copy.deepcopy(model.state_dict())\n",
    "  best_acc = 0.0\n",
    "\n",
    "  for epoch in range(num_epochs):\n",
    "    print(f'Epoch {epoch}/{num_epoch-1}')\n",
    "    print('-' * 10)\n",
    "\n",
    "    for phase in ['train', 'test']:\n",
    "      if phase =='train':\n",
    "        model.train()\n",
    "      else:\n",
    "        model.eval()\n",
    "      \n",
    "      running_loss = 0.0\n",
    "      running_corrects = 0\n",
    "\n",
    "      # Iterate over data.\n",
    "      for inputs, labels in dataloaders[phase]:\n",
    "        inputs = inputs.to(device)\n",
    "        labels = labels.to(device)\n",
    "\n",
    "        # forward\n",
    "        # track history only if train\n",
    "        with torch.set_grad_enabled(phase == 'train'):\n",
    "          outputs = model(inputs)\n",
    "          _, preds = torch.max(outputs, 1)\n",
    "          loss = cirterion(outputs, labels)\n",
    "\n",
    "          #backward + optimize only if in train\n",
    "          if phase == 'train':\n",
    "            optimizer.zero_grad()\n",
    "            loss.backward()\n",
    "            optimizer.step()\n",
    "        \n",
    "        running_loss += loss.item() * inputs.size(0)\n",
    "        running_corrects += torch.sum(preds == labels.data)\n",
    "      \n",
    "      if phase == 'train':\n",
    "        scheduler.step()\n",
    "\n",
    "      epoch_loss = running_loss / dataset_sizes[phase]\n",
    "      epoch_acc = running_corrects.double() / dataset_sizes[phase]\n",
    "\n",
    "      print(f'{phase} Loss: {epoch_loss:.4f}, Acc: {epoch_acc:.4f}')\n",
    "\n",
    "      if phase == 'test' and epoch_acc > best_acc:\n",
    "        best_acc = epoch_acc\n",
    "        best_model_wts = copy.deepcopy(model.state_dict())\n",
    "\n",
    "    print()\n",
    "  time_elapsed = time.time() - since\n",
    "  print(f'Training complete in {time_elapsed // 60:.0f}m { time_elapsed % 60:.0f}s')\n",
    "  print(f'Best val Acc: {best_acc:4f}')\n",
    "\n",
    "  # load best model weights\n",
    "  model.load_state_dict(best_model_wts)\n",
    "  return model"
   ]
  },
  {
   "cell_type": "code",
   "execution_count": 14,
   "id": "a37c6479",
   "metadata": {},
   "outputs": [
    {
     "name": "stdout",
     "output_type": "stream",
     "text": [
      "Epoch 2/9\n",
      "----------\n"
     ]
    }
   ],
   "source": [
    "epoch, num_epoch = 2, 10\n",
    "print(f'Epoch {epoch}/{num_epoch-1}')\n",
    "print('-' * 10)"
   ]
  },
  {
   "cell_type": "code",
   "execution_count": null,
   "id": "03ff58af",
   "metadata": {},
   "outputs": [],
   "source": [
    "# Finetuning the convnet: \n",
    "# Load a pretrained model and reset final fully connected layer."
   ]
  },
  {
   "cell_type": "code",
   "execution_count": 15,
   "id": "720fac50",
   "metadata": {},
   "outputs": [
    {
     "name": "stderr",
     "output_type": "stream",
     "text": [
      "E:\\conda\\lib\\site-packages\\torchvision\\models\\_utils.py:208: UserWarning: The parameter 'pretrained' is deprecated since 0.13 and may be removed in the future, please use 'weights' instead.\n",
      "  warnings.warn(\n",
      "E:\\conda\\lib\\site-packages\\torchvision\\models\\_utils.py:223: UserWarning: Arguments other than a weight enum or `None` for 'weights' are deprecated since 0.13 and may be removed in the future. The current behavior is equivalent to passing `weights=ResNet152_Weights.IMAGENET1K_V1`. You can also use `weights=ResNet152_Weights.DEFAULT` to get the most up-to-date weights.\n",
      "  warnings.warn(msg)\n"
     ]
    }
   ],
   "source": [
    "model = models.resnet152(pretrained=True)\n",
    "num_ftrs = model.fc.in_features"
   ]
  },
  {
   "cell_type": "code",
   "execution_count": 16,
   "id": "3d339a4f",
   "metadata": {},
   "outputs": [],
   "source": [
    "# Here the size of each output sample is set to 2.\n",
    "# Alternatively, it can be generalized to nn.Linear(num_ftrs, len(class_names)).\n",
    "model.fc = nn.Linear(num_ftrs, 8)\n",
    "model = model.to(device)"
   ]
  },
  {
   "cell_type": "code",
   "execution_count": 17,
   "id": "df275cde",
   "metadata": {},
   "outputs": [],
   "source": [
    "criterion = nn.CrossEntropyLoss()"
   ]
  },
  {
   "cell_type": "code",
   "execution_count": 18,
   "id": "4c57b995",
   "metadata": {},
   "outputs": [],
   "source": [
    "# Observe that all parameters are being optimized\n",
    "optimizer = optim.SGD(model.parameters(), lr=0.001)"
   ]
  },
  {
   "cell_type": "code",
   "execution_count": null,
   "id": "738e4053",
   "metadata": {},
   "outputs": [],
   "source": [
    "# StepLR Decays the learning rate of each parameter group by gamma every step_size epochs\n",
    "# Decay LR by a factor of 0.1 every 7 epochs\n",
    "# Learning rate scheduling should be applied after optimizer’s update"
   ]
  },
  {
   "cell_type": "code",
   "execution_count": 19,
   "id": "2007f944",
   "metadata": {},
   "outputs": [],
   "source": [
    "step_lr_scheduler = lr_scheduler.StepLR(optimizer, step_size=7, gamma=0.1)"
   ]
  },
  {
   "cell_type": "code",
   "execution_count": 20,
   "id": "e9bd3926",
   "metadata": {},
   "outputs": [
    {
     "name": "stdout",
     "output_type": "stream",
     "text": [
      "Epoch 0/9\n",
      "----------\n",
      "train Loss: 1.0822, Acc: 0.6180\n",
      "test Loss: 0.8482, Acc: 0.7073\n",
      "\n",
      "Epoch 1/9\n",
      "----------\n",
      "train Loss: 0.8992, Acc: 0.6826\n",
      "test Loss: 0.8171, Acc: 0.7211\n",
      "\n",
      "Epoch 2/9\n",
      "----------\n",
      "train Loss: 0.7783, Acc: 0.7278\n",
      "test Loss: 0.8193, Acc: 0.7347\n",
      "\n",
      "Epoch 3/9\n",
      "----------\n",
      "train Loss: 0.6565, Acc: 0.7718\n",
      "test Loss: 0.8815, Acc: 0.7142\n",
      "\n",
      "Epoch 4/9\n",
      "----------\n",
      "train Loss: 0.5401, Acc: 0.8107\n",
      "test Loss: 0.8382, Acc: 0.7509\n",
      "\n",
      "Epoch 5/9\n",
      "----------\n",
      "train Loss: 0.4486, Acc: 0.8460\n",
      "test Loss: 0.8189, Acc: 0.7438\n",
      "\n",
      "Epoch 6/9\n",
      "----------\n",
      "train Loss: 0.3512, Acc: 0.8797\n",
      "test Loss: 0.8061, Acc: 0.7661\n",
      "\n",
      "Epoch 7/9\n",
      "----------\n",
      "train Loss: 0.2268, Acc: 0.9309\n",
      "test Loss: 0.8374, Acc: 0.7687\n",
      "\n",
      "Epoch 8/9\n",
      "----------\n",
      "train Loss: 0.1796, Acc: 0.9469\n",
      "test Loss: 0.8162, Acc: 0.7756\n",
      "\n",
      "Epoch 9/9\n",
      "----------\n",
      "train Loss: 0.1688, Acc: 0.9496\n",
      "test Loss: 0.8173, Acc: 0.7827\n",
      "\n",
      "Training complete in 401m 43s\n",
      "Best val Acc: 0.782669\n"
     ]
    }
   ],
   "source": [
    "model = train_model(model, criterion, optimizer, step_lr_scheduler, num_epochs=10)"
   ]
  },
  {
   "cell_type": "code",
   "execution_count": 21,
   "id": "5411ade0",
   "metadata": {},
   "outputs": [
    {
     "name": "stderr",
     "output_type": "stream",
     "text": [
      "E:\\conda\\lib\\site-packages\\torchvision\\models\\_utils.py:223: UserWarning: Arguments other than a weight enum or `None` for 'weights' are deprecated since 0.13 and may be removed in the future. The current behavior is equivalent to passing `weights=ResNet18_Weights.IMAGENET1K_V1`. You can also use `weights=ResNet18_Weights.DEFAULT` to get the most up-to-date weights.\n",
      "  warnings.warn(msg)\n"
     ]
    },
    {
     "name": "stdout",
     "output_type": "stream",
     "text": [
      "Epoch 0/9\n",
      "----------\n",
      "train Loss: 1.3458, Acc: 0.5473\n",
      "test Loss: 1.3400, Acc: 0.5983\n",
      "\n",
      "Epoch 1/9\n",
      "----------\n",
      "train Loss: 1.3154, Acc: 0.5600\n",
      "test Loss: 1.3260, Acc: 0.5900\n",
      "\n",
      "Epoch 2/9\n",
      "----------\n",
      "train Loss: 1.3135, Acc: 0.5577\n",
      "test Loss: 1.2059, Acc: 0.6196\n",
      "\n",
      "Epoch 3/9\n",
      "----------\n",
      "train Loss: 1.2852, Acc: 0.5613\n",
      "test Loss: 1.2358, Acc: 0.6094\n",
      "\n",
      "Epoch 4/9\n",
      "----------\n",
      "train Loss: 1.2794, Acc: 0.5656\n",
      "test Loss: 1.1401, Acc: 0.6234\n",
      "\n",
      "Epoch 5/9\n",
      "----------\n",
      "train Loss: 1.2995, Acc: 0.5594\n",
      "test Loss: 1.2703, Acc: 0.6068\n",
      "\n",
      "Epoch 6/9\n",
      "----------\n",
      "train Loss: 1.2879, Acc: 0.5679\n",
      "test Loss: 1.1940, Acc: 0.6271\n",
      "\n",
      "Epoch 7/9\n",
      "----------\n",
      "train Loss: 1.0744, Acc: 0.6132\n",
      "test Loss: 1.0575, Acc: 0.6386\n",
      "\n",
      "Epoch 8/9\n",
      "----------\n",
      "train Loss: 1.0607, Acc: 0.6169\n",
      "test Loss: 1.0435, Acc: 0.6380\n",
      "\n",
      "Epoch 9/9\n",
      "----------\n",
      "train Loss: 1.0532, Acc: 0.6156\n",
      "test Loss: 1.0025, Acc: 0.6465\n",
      "\n",
      "Training complete in 139m 14s\n",
      "Best val Acc: 0.646467\n"
     ]
    }
   ],
   "source": [
    "#ConvNet as fixed feature extractor:\n",
    "# Here, we need to freeze all the network except the final layer.\n",
    "# We need to set requires_grad == False to freeze the parameters so that the gradients are not computed in backward()\n",
    "model_conv = torchvision.models.resnet18(pretrained=True)\n",
    "for param in model_conv.parameters():\n",
    "    param.requires_grad = False\n",
    "\n",
    "# Parameters of newly constructed modules have requires_grad=True by default\n",
    "num_ftrs = model_conv.fc.in_features\n",
    "model_conv.fc = nn.Linear(num_ftrs, 8)\n",
    "\n",
    "model_conv = model_conv.to(device)\n",
    "\n",
    "criterion = nn.CrossEntropyLoss()\n",
    "\n",
    "# Observe that only parameters of final layer are being optimized as\n",
    "# opposed to before.\n",
    "optimizer_conv = optim.SGD(model_conv.fc.parameters(), lr=0.001, momentum=0.9)\n",
    "\n",
    "# Decay LR by a factor of 0.1 every 7 epochs\n",
    "exp_lr_scheduler = lr_scheduler.StepLR(optimizer_conv, step_size=7, gamma=0.1)\n",
    "\n",
    "model_conv = train_model(model_conv, criterion, optimizer_conv,\n",
    "                         exp_lr_scheduler, num_epochs=10)"
   ]
  },
  {
   "cell_type": "code",
   "execution_count": null,
   "id": "511261d5",
   "metadata": {},
   "outputs": [],
   "source": []
  }
 ],
 "metadata": {
  "kernelspec": {
   "display_name": "Python 3 (ipykernel)",
   "language": "python",
   "name": "python3"
  },
  "language_info": {
   "codemirror_mode": {
    "name": "ipython",
    "version": 3
   },
   "file_extension": ".py",
   "mimetype": "text/x-python",
   "name": "python",
   "nbconvert_exporter": "python",
   "pygments_lexer": "ipython3",
   "version": "3.9.12"
  }
 },
 "nbformat": 4,
 "nbformat_minor": 5
}
